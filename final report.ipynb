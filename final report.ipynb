{
  "nbformat": 4,
  "nbformat_minor": 0,
  "metadata": {
    "colab": {
      "name": "Untitled2.ipynb",
      "version": "0.3.2",
      "provenance": [],
      "collapsed_sections": []
    },
    "kernelspec": {
      "name": "python3",
      "display_name": "Python 3"
    }
  },
  "cells": [
    {
      "metadata": {
        "id": "fohMVqUBVVeN",
        "colab_type": "text"
      },
      "cell_type": "markdown",
      "source": [
        "#縣市2011-2015肺癌相關資料\n"
      ]
    },
    {
      "metadata": {
        "id": "yxXlQRYdgMZc",
        "colab_type": "code",
        "outputId": "199f557b-8b0f-44b5-fff4-266d6221ae8e",
        "colab": {
          "base_uri": "https://localhost:8080/",
          "height": 400
        }
      },
      "cell_type": "code",
      "source": [
        "import matplotlib.pyplot as plt\n",
        "import pandas as pd\n",
        "cancer = pd.read_excel(\"data for report.xlsx\")\n",
        "cancer.head()"
      ],
      "execution_count": 0,
      "outputs": [
        {
          "output_type": "execute_result",
          "data": {
            "text/html": [
              "<div>\n",
              "<style scoped>\n",
              "    .dataframe tbody tr th:only-of-type {\n",
              "        vertical-align: middle;\n",
              "    }\n",
              "\n",
              "    .dataframe tbody tr th {\n",
              "        vertical-align: top;\n",
              "    }\n",
              "\n",
              "    .dataframe thead th {\n",
              "        text-align: right;\n",
              "    }\n",
              "</style>\n",
              "<table border=\"1\" class=\"dataframe\">\n",
              "  <thead>\n",
              "    <tr style=\"text-align: right;\">\n",
              "      <th></th>\n",
              "      <th>year</th>\n",
              "      <th>city code</th>\n",
              "      <th>city</th>\n",
              "      <th>average life</th>\n",
              "      <th>age65</th>\n",
              "      <th>plantAmount</th>\n",
              "      <th>plant</th>\n",
              "      <th>Sex ratio</th>\n",
              "      <th>Unemployment</th>\n",
              "      <th>Tax</th>\n",
              "      <th>bed</th>\n",
              "      <th>PM10 (μg/m3)</th>\n",
              "      <th>SO2 (ppb)</th>\n",
              "      <th>NO2 (ppb)</th>\n",
              "      <th>pop</th>\n",
              "      <th>smoking rate</th>\n",
              "      <th>cancer</th>\n",
              "      <th>cars</th>\n",
              "    </tr>\n",
              "  </thead>\n",
              "  <tbody>\n",
              "    <tr>\n",
              "      <th>0</th>\n",
              "      <td>2011</td>\n",
              "      <td>1</td>\n",
              "      <td>New Taipei City</td>\n",
              "      <td>80.46</td>\n",
              "      <td>334479</td>\n",
              "      <td>1</td>\n",
              "      <td>1</td>\n",
              "      <td>98.14</td>\n",
              "      <td>4.4</td>\n",
              "      <td>168759548</td>\n",
              "      <td>42.00</td>\n",
              "      <td>42.0</td>\n",
              "      <td>3.5</td>\n",
              "      <td>17.20</td>\n",
              "      <td>3916451</td>\n",
              "      <td>21.9</td>\n",
              "      <td>1803</td>\n",
              "      <td>3284713</td>\n",
              "    </tr>\n",
              "    <tr>\n",
              "      <th>1</th>\n",
              "      <td>2012</td>\n",
              "      <td>1</td>\n",
              "      <td>New Taipei City</td>\n",
              "      <td>80.50</td>\n",
              "      <td>353396</td>\n",
              "      <td>1</td>\n",
              "      <td>1</td>\n",
              "      <td>97.69</td>\n",
              "      <td>4.2</td>\n",
              "      <td>186386348</td>\n",
              "      <td>42.21</td>\n",
              "      <td>38.0</td>\n",
              "      <td>3.1</td>\n",
              "      <td>16.00</td>\n",
              "      <td>3939305</td>\n",
              "      <td>19.5</td>\n",
              "      <td>2003</td>\n",
              "      <td>3309078</td>\n",
              "    </tr>\n",
              "    <tr>\n",
              "      <th>2</th>\n",
              "      <td>2013</td>\n",
              "      <td>1</td>\n",
              "      <td>New Taipei City</td>\n",
              "      <td>80.59</td>\n",
              "      <td>374883</td>\n",
              "      <td>1</td>\n",
              "      <td>1</td>\n",
              "      <td>97.27</td>\n",
              "      <td>4.2</td>\n",
              "      <td>204029784</td>\n",
              "      <td>41.13</td>\n",
              "      <td>41.8</td>\n",
              "      <td>3.4</td>\n",
              "      <td>16.10</td>\n",
              "      <td>3954929</td>\n",
              "      <td>20.8</td>\n",
              "      <td>1998</td>\n",
              "      <td>3233275</td>\n",
              "    </tr>\n",
              "    <tr>\n",
              "      <th>3</th>\n",
              "      <td>2014</td>\n",
              "      <td>1</td>\n",
              "      <td>New Taipei City</td>\n",
              "      <td>80.75</td>\n",
              "      <td>400545</td>\n",
              "      <td>1</td>\n",
              "      <td>1</td>\n",
              "      <td>96.86</td>\n",
              "      <td>3.9</td>\n",
              "      <td>221096918</td>\n",
              "      <td>42.85</td>\n",
              "      <td>43.1</td>\n",
              "      <td>3.4</td>\n",
              "      <td>16.60</td>\n",
              "      <td>3966818</td>\n",
              "      <td>18.4</td>\n",
              "      <td>2160</td>\n",
              "      <td>3178499</td>\n",
              "    </tr>\n",
              "    <tr>\n",
              "      <th>4</th>\n",
              "      <td>2015</td>\n",
              "      <td>1</td>\n",
              "      <td>New Taipei City</td>\n",
              "      <td>80.96</td>\n",
              "      <td>429175</td>\n",
              "      <td>0</td>\n",
              "      <td>1</td>\n",
              "      <td>96.64</td>\n",
              "      <td>3.7</td>\n",
              "      <td>246632933</td>\n",
              "      <td>43.29</td>\n",
              "      <td>40.1</td>\n",
              "      <td>3.2</td>\n",
              "      <td>15.85</td>\n",
              "      <td>3970644</td>\n",
              "      <td>17.7</td>\n",
              "      <td>2175</td>\n",
              "      <td>3183551</td>\n",
              "    </tr>\n",
              "  </tbody>\n",
              "</table>\n",
              "</div>"
            ],
            "text/plain": [
              "   year  city code             city  average life   age65  plantAmount  plant  \\\n",
              "0  2011          1  New Taipei City         80.46  334479            1      1   \n",
              "1  2012          1  New Taipei City         80.50  353396            1      1   \n",
              "2  2013          1  New Taipei City         80.59  374883            1      1   \n",
              "3  2014          1  New Taipei City         80.75  400545            1      1   \n",
              "4  2015          1  New Taipei City         80.96  429175            0      1   \n",
              "\n",
              "   Sex ratio  Unemployment        Tax    bed  PM10 (μg/m3)   SO2 (ppb)   \\\n",
              "0      98.14           4.4  168759548  42.00           42.0         3.5   \n",
              "1      97.69           4.2  186386348  42.21           38.0         3.1   \n",
              "2      97.27           4.2  204029784  41.13           41.8         3.4   \n",
              "3      96.86           3.9  221096918  42.85           43.1         3.4   \n",
              "4      96.64           3.7  246632933  43.29           40.1         3.2   \n",
              "\n",
              "   NO2 (ppb)       pop  smoking rate  cancer     cars  \n",
              "0       17.20  3916451          21.9    1803  3284713  \n",
              "1       16.00  3939305          19.5    2003  3309078  \n",
              "2       16.10  3954929          20.8    1998  3233275  \n",
              "3       16.60  3966818          18.4    2160  3178499  \n",
              "4       15.85  3970644          17.7    2175  3183551  "
            ]
          },
          "metadata": {
            "tags": []
          },
          "execution_count": 9
        }
      ]
    },
    {
      "metadata": {
        "id": "9GuJwWdqhg0U",
        "colab_type": "code",
        "outputId": "6d31a732-13b8-4b41-92d9-cfe4c3afdc69",
        "colab": {
          "base_uri": "https://localhost:8080/",
          "height": 118
        }
      },
      "cell_type": "code",
      "source": [
        "cancer[\"city\"].unique()"
      ],
      "execution_count": 0,
      "outputs": [
        {
          "output_type": "execute_result",
          "data": {
            "text/plain": [
              "array(['New Taipei City', 'Taipei City', 'Taoyuan City', 'Taichung City',\n",
              "       'Tainan City', 'Kaohsiung City', 'Yilan County', 'Hsinchu County',\n",
              "       'Miaoli County', 'Changhua County', 'Nantou County',\n",
              "       'Yunlin County', 'Chiayi County', 'Pingtung County',\n",
              "       'Taitung County', 'Hualien County', 'Keelung City', 'Hsinchu City',\n",
              "       'Chiayi City'], dtype=object)"
            ]
          },
          "metadata": {
            "tags": []
          },
          "execution_count": 3
        }
      ]
    },
    {
      "metadata": {
        "id": "JWC9Rdlthrck",
        "colab_type": "code",
        "outputId": "e75566fd-7523-4ff8-ea7d-41e5d53ad21e",
        "colab": {
          "base_uri": "https://localhost:8080/",
          "height": 34
        }
      },
      "cell_type": "code",
      "source": [
        "cancer[\"year\"].unique()"
      ],
      "execution_count": 0,
      "outputs": [
        {
          "output_type": "execute_result",
          "data": {
            "text/plain": [
              "array([2011, 2012, 2013, 2014, 2015])"
            ]
          },
          "metadata": {
            "tags": []
          },
          "execution_count": 5
        }
      ]
    },
    {
      "metadata": {
        "id": "hymReEGKhvJb",
        "colab_type": "code",
        "outputId": "c021b905-d6c4-437c-fbee-1325503d38e1",
        "colab": {
          "base_uri": "https://localhost:8080/",
          "height": 34
        }
      },
      "cell_type": "code",
      "source": [
        "groupbeYear = cancer.groupby(\"year\")\n",
        "cancer_year_ser = groupbeYear[\"cancer\"].sum()\n",
        "cancer_year_ser.index"
      ],
      "execution_count": 0,
      "outputs": [
        {
          "output_type": "execute_result",
          "data": {
            "text/plain": [
              "Int64Index([2011, 2012, 2013, 2014, 2015], dtype='int64', name='year')"
            ]
          },
          "metadata": {
            "tags": []
          },
          "execution_count": 32
        }
      ]
    },
    {
      "metadata": {
        "id": "huycucHdh3wE",
        "colab_type": "code",
        "outputId": "5d9372a0-da47-4c55-8b52-ccea83cc84c7",
        "colab": {
          "base_uri": "https://localhost:8080/",
          "height": 34
        }
      },
      "cell_type": "code",
      "source": [
        "cancer_year_ser.values"
      ],
      "execution_count": 0,
      "outputs": [
        {
          "output_type": "execute_result",
          "data": {
            "text/plain": [
              "array([10972, 11601, 11661, 12386, 13002])"
            ]
          },
          "metadata": {
            "tags": []
          },
          "execution_count": 33
        }
      ]
    },
    {
      "metadata": {
        "id": "KXDLLCy9tbw7",
        "colab_type": "code",
        "outputId": "e3928fc1-b60a-4a84-c16b-c65d3d78b10a",
        "colab": {
          "base_uri": "https://localhost:8080/",
          "height": 34
        }
      },
      "cell_type": "code",
      "source": [
        "smoking_year_ser = groupbeYear[\"smoking rate\"].mean()\n",
        "smoking_year_ser.index\n",
        "smoking_year_ser.values"
      ],
      "execution_count": 0,
      "outputs": [
        {
          "output_type": "execute_result",
          "data": {
            "text/plain": [
              "array([19.12105263, 18.76315789, 17.50526316, 17.16842105, 17.20526316])"
            ]
          },
          "metadata": {
            "tags": []
          },
          "execution_count": 35
        }
      ]
    },
    {
      "metadata": {
        "id": "qcPf2zZj2Ujw",
        "colab_type": "text"
      },
      "cell_type": "markdown",
      "source": [
        "##歷年肺癌人數與吸菸率關係\n",
        "觀察近年肺癌人數逐漸上升，，吸菸被列為最有可能罹患肺癌的原因，希望透過下列方式確認肺癌與吸菸之關係是否為正相關？"
      ]
    },
    {
      "metadata": {
        "id": "QuC5_hZBh574",
        "colab_type": "code",
        "outputId": "7d936301-7925-4103-b028-95f86846b9b9",
        "colab": {
          "base_uri": "https://localhost:8080/",
          "height": 376
        }
      },
      "cell_type": "code",
      "source": [
        "fig = plt.figure()\n",
        "can = fig.add_subplot(111)\n",
        "can.plot(cancer_year_ser.index, cancer_year_ser.values ,label = \"lung cancer amount\", color=\"#f6546a\")\n",
        "smoking = can.twinx()\n",
        "smoking.plot(smoking_year_ser.index, smoking_year_ser.values, label = \"smoking rate\")\n",
        "can.set_xlabel(\"year\")\n",
        "can.set_ylabel(\"lung cancer amount\")\n",
        "smoking.set_ylabel(\"smoking rate\")\n",
        "plt.title(\"Relationship between smoking rate and lung cancer\")\n",
        "can.legend()\n",
        "smoking.legend()\n",
        "plt.legend()\n",
        "plt.show()"
      ],
      "execution_count": 0,
      "outputs": [
        {
          "output_type": "display_data",
          "data": {
            "image/png": "[encoded data removed]",
            "text/plain": [
              "<matplotlib.figure.Figure at 0x7f5b4be450f0>"
            ]
          },
          "metadata": {
            "tags": []
          }
        }
      ]
    },
    {
      "metadata": {
        "id": "BADZSU8IWUds",
        "colab_type": "text"
      },
      "cell_type": "markdown",
      "source": [
        " 由上圖可知，歷年肺癌人數與吸菸率呈負向關係。`\n"
      ]
    },
    {
      "metadata": {
        "id": "NLxt06U0YTIu",
        "colab_type": "text"
      },
      "cell_type": "markdown",
      "source": [
        "##各縣市歷年罹患肺癌人數\n",
        "因此想檢視哪一個縣市罹患肺癌人數最多\n"
      ]
    },
    {
      "metadata": {
        "id": "9G5ehCLcXqAJ",
        "colab_type": "code",
        "colab": {
          "base_uri": "https://localhost:8080/",
          "height": 348
        },
        "outputId": "418a1c40-5a68-40d8-ea0a-038db2780131"
      },
      "cell_type": "code",
      "source": [
        "figure, axis = plt.subplots(figsize=(29, 5))\n",
        "amount_each_city = len(city_ser.values)\n",
        "plt.bar(range(amount_each_city), city_ser.values, color=\"#40e0d0\")\n",
        "plt.xticks(range(amount_each_city), city_ser.index)\n",
        "plt.title(\"How many lung cancer are there in each city?\")\n",
        "plt.xlabel(\"city\")\n",
        "plt.ylabel(\"lung cancer amount\")\n",
        "plt.show()"
      ],
      "execution_count": 55,
      "outputs": [
        {
          "output_type": "display_data",
          "data": {
            "image/png": "[encoded data removed]",
            "text/plain": [
              "<matplotlib.figure.Figure at 0x7f5b4bc75550>"
            ]
          },
          "metadata": {
            "tags": []
          }
        }
      ]
    },
    {
      "metadata": {
        "id": "ZNtnjDzqcRgt",
        "colab_type": "text"
      },
      "cell_type": "markdown",
      "source": [
        "發現新北市累計罹患肺癌人數最多\n"
      ]
    },
    {
      "metadata": {
        "id": "O3QZDBYqW4B8",
        "colab_type": "text"
      },
      "cell_type": "markdown",
      "source": [
        "#腦中風人數\n",
        "腦中風是國人十大死因的第二名，僅次於癌症。\n",
        "男性與女性分別於45與55歲以後罹患腦中風的風險就會增加"
      ]
    },
    {
      "metadata": {
        "id": "mtTgWiwBUVwg",
        "colab_type": "code",
        "colab": {
          "base_uri": "https://localhost:8080/",
          "height": 197
        },
        "outputId": "cac0880c-298d-4bbf-aefa-21adb16bb9ac"
      },
      "cell_type": "code",
      "source": [
        "import pandas as pd\n",
        "import matplotlib.pyplot as plt\n",
        "brain_stroke = pd.read_excel(\"腦中風人數.xlsx\")\n",
        "brain_stroke.head()\n"
      ],
      "execution_count": 84,
      "outputs": [
        {
          "output_type": "execute_result",
          "data": {
            "text/html": [
              "<div>\n",
              "<style scoped>\n",
              "    .dataframe tbody tr th:only-of-type {\n",
              "        vertical-align: middle;\n",
              "    }\n",
              "\n",
              "    .dataframe tbody tr th {\n",
              "        vertical-align: top;\n",
              "    }\n",
              "\n",
              "    .dataframe thead th {\n",
              "        text-align: right;\n",
              "    }\n",
              "</style>\n",
              "<table border=\"1\" class=\"dataframe\">\n",
              "  <thead>\n",
              "    <tr style=\"text-align: right;\">\n",
              "      <th></th>\n",
              "      <th>年度季別</th>\n",
              "      <th>醫事機構代碼</th>\n",
              "      <th>醫事機構名稱</th>\n",
              "      <th>特約類別</th>\n",
              "      <th>腦中風病人住院日起一百八十日內之案件件數</th>\n",
              "      <th>腦中風病人住院日起一百八十日內之手術件數</th>\n",
              "      <th>腦中風病人住院日起一百八十日內之平均住院日數</th>\n",
              "      <th>所屬分區業務組指標值</th>\n",
              "      <th>全國指標值</th>\n",
              "      <th>縣市別</th>\n",
              "      <th>行政區</th>\n",
              "    </tr>\n",
              "  </thead>\n",
              "  <tbody>\n",
              "    <tr>\n",
              "      <th>0</th>\n",
              "      <td>10504</td>\n",
              "      <td>1532040039</td>\n",
              "      <td>天成醫院</td>\n",
              "      <td>地區醫院</td>\n",
              "      <td>3</td>\n",
              "      <td>3.0</td>\n",
              "      <td>1.0000</td>\n",
              "      <td>0.8559</td>\n",
              "      <td>0.863</td>\n",
              "      <td>Taoyuan City</td>\n",
              "      <td>楊梅區</td>\n",
              "    </tr>\n",
              "    <tr>\n",
              "      <th>1</th>\n",
              "      <td>10504</td>\n",
              "      <td>117030010</td>\n",
              "      <td>衛生福利部臺中醫院</td>\n",
              "      <td>區域醫院</td>\n",
              "      <td>2</td>\n",
              "      <td>2.0</td>\n",
              "      <td>1.0000</td>\n",
              "      <td>0.8944</td>\n",
              "      <td>0.863</td>\n",
              "      <td>Taichung City</td>\n",
              "      <td>西區</td>\n",
              "    </tr>\n",
              "    <tr>\n",
              "      <th>2</th>\n",
              "      <td>10504</td>\n",
              "      <td>501110514</td>\n",
              "      <td>三軍總醫院附設民眾診療服務處</td>\n",
              "      <td>醫學中心</td>\n",
              "      <td>24</td>\n",
              "      <td>32.0</td>\n",
              "      <td>0.7500</td>\n",
              "      <td>0.8964</td>\n",
              "      <td>0.863</td>\n",
              "      <td>Taipei City</td>\n",
              "      <td>內湖區</td>\n",
              "    </tr>\n",
              "    <tr>\n",
              "      <th>3</th>\n",
              "      <td>10504</td>\n",
              "      <td>601160016</td>\n",
              "      <td>臺北榮民總醫院</td>\n",
              "      <td>醫學中心</td>\n",
              "      <td>47</td>\n",
              "      <td>52.0</td>\n",
              "      <td>0.9038</td>\n",
              "      <td>0.8964</td>\n",
              "      <td>0.863</td>\n",
              "      <td>Taipei City</td>\n",
              "      <td>北投區</td>\n",
              "    </tr>\n",
              "    <tr>\n",
              "      <th>4</th>\n",
              "      <td>10504</td>\n",
              "      <td>622020017</td>\n",
              "      <td>臺中榮民總醫院嘉義分院</td>\n",
              "      <td>區域醫院</td>\n",
              "      <td>1</td>\n",
              "      <td>2.0</td>\n",
              "      <td>0.5000</td>\n",
              "      <td>0.7216</td>\n",
              "      <td>0.863</td>\n",
              "      <td>Chiayi City</td>\n",
              "      <td>西區</td>\n",
              "    </tr>\n",
              "  </tbody>\n",
              "</table>\n",
              "</div>"
            ],
            "text/plain": [
              "    年度季別      醫事機構代碼          醫事機構名稱  特約類別  腦中風病人住院日起一百八十日內之案件件數  \\\n",
              "0  10504  1532040039            天成醫院  地區醫院                     3   \n",
              "1  10504   117030010       衛生福利部臺中醫院  區域醫院                     2   \n",
              "2  10504   501110514  三軍總醫院附設民眾診療服務處  醫學中心                    24   \n",
              "3  10504   601160016         臺北榮民總醫院  醫學中心                    47   \n",
              "4  10504   622020017     臺中榮民總醫院嘉義分院  區域醫院                     1   \n",
              "\n",
              "   腦中風病人住院日起一百八十日內之手術件數  腦中風病人住院日起一百八十日內之平均住院日數  所屬分區業務組指標值  全國指標值  \\\n",
              "0                   3.0                  1.0000      0.8559  0.863   \n",
              "1                   2.0                  1.0000      0.8944  0.863   \n",
              "2                  32.0                  0.7500      0.8964  0.863   \n",
              "3                  52.0                  0.9038      0.8964  0.863   \n",
              "4                   2.0                  0.5000      0.7216  0.863   \n",
              "\n",
              "             縣市別  行政區  \n",
              "0   Taoyuan City  楊梅區  \n",
              "1  Taichung City   西區  \n",
              "2    Taipei City  內湖區  \n",
              "3    Taipei City  北投區  \n",
              "4    Chiayi City   西區  "
            ]
          },
          "metadata": {
            "tags": []
          },
          "execution_count": 84
        }
      ]
    },
    {
      "metadata": {
        "id": "ubruAgM8coM-",
        "colab_type": "code",
        "colab": {
          "base_uri": "https://localhost:8080/",
          "height": 197
        },
        "outputId": "5b3a0d7d-4bbb-4b30-8900-c566c9d89fa7"
      },
      "cell_type": "code",
      "source": [
        "#更換欄名\n",
        "col_names = [\"year\", \"hosp_code\", \"hosp_name\", \"hosp_type\", \"case\", \"surgery\", \"be_in_hosp\", \"區域指標值\", \"全國指標值\", \"city\", \"village\"]\n",
        "brain_stroke.columns = col_names\n",
        "brain_stroke.head()"
      ],
      "execution_count": 85,
      "outputs": [
        {
          "output_type": "execute_result",
          "data": {
            "text/html": [
              "<div>\n",
              "<style scoped>\n",
              "    .dataframe tbody tr th:only-of-type {\n",
              "        vertical-align: middle;\n",
              "    }\n",
              "\n",
              "    .dataframe tbody tr th {\n",
              "        vertical-align: top;\n",
              "    }\n",
              "\n",
              "    .dataframe thead th {\n",
              "        text-align: right;\n",
              "    }\n",
              "</style>\n",
              "<table border=\"1\" class=\"dataframe\">\n",
              "  <thead>\n",
              "    <tr style=\"text-align: right;\">\n",
              "      <th></th>\n",
              "      <th>year</th>\n",
              "      <th>hosp_code</th>\n",
              "      <th>hosp_name</th>\n",
              "      <th>hosp_type</th>\n",
              "      <th>case</th>\n",
              "      <th>surgery</th>\n",
              "      <th>be_in_hosp</th>\n",
              "      <th>區域指標值</th>\n",
              "      <th>全國指標值</th>\n",
              "      <th>city</th>\n",
              "      <th>village</th>\n",
              "    </tr>\n",
              "  </thead>\n",
              "  <tbody>\n",
              "    <tr>\n",
              "      <th>0</th>\n",
              "      <td>10504</td>\n",
              "      <td>1532040039</td>\n",
              "      <td>天成醫院</td>\n",
              "      <td>地區醫院</td>\n",
              "      <td>3</td>\n",
              "      <td>3.0</td>\n",
              "      <td>1.0000</td>\n",
              "      <td>0.8559</td>\n",
              "      <td>0.863</td>\n",
              "      <td>Taoyuan City</td>\n",
              "      <td>楊梅區</td>\n",
              "    </tr>\n",
              "    <tr>\n",
              "      <th>1</th>\n",
              "      <td>10504</td>\n",
              "      <td>117030010</td>\n",
              "      <td>衛生福利部臺中醫院</td>\n",
              "      <td>區域醫院</td>\n",
              "      <td>2</td>\n",
              "      <td>2.0</td>\n",
              "      <td>1.0000</td>\n",
              "      <td>0.8944</td>\n",
              "      <td>0.863</td>\n",
              "      <td>Taichung City</td>\n",
              "      <td>西區</td>\n",
              "    </tr>\n",
              "    <tr>\n",
              "      <th>2</th>\n",
              "      <td>10504</td>\n",
              "      <td>501110514</td>\n",
              "      <td>三軍總醫院附設民眾診療服務處</td>\n",
              "      <td>醫學中心</td>\n",
              "      <td>24</td>\n",
              "      <td>32.0</td>\n",
              "      <td>0.7500</td>\n",
              "      <td>0.8964</td>\n",
              "      <td>0.863</td>\n",
              "      <td>Taipei City</td>\n",
              "      <td>內湖區</td>\n",
              "    </tr>\n",
              "    <tr>\n",
              "      <th>3</th>\n",
              "      <td>10504</td>\n",
              "      <td>601160016</td>\n",
              "      <td>臺北榮民總醫院</td>\n",
              "      <td>醫學中心</td>\n",
              "      <td>47</td>\n",
              "      <td>52.0</td>\n",
              "      <td>0.9038</td>\n",
              "      <td>0.8964</td>\n",
              "      <td>0.863</td>\n",
              "      <td>Taipei City</td>\n",
              "      <td>北投區</td>\n",
              "    </tr>\n",
              "    <tr>\n",
              "      <th>4</th>\n",
              "      <td>10504</td>\n",
              "      <td>622020017</td>\n",
              "      <td>臺中榮民總醫院嘉義分院</td>\n",
              "      <td>區域醫院</td>\n",
              "      <td>1</td>\n",
              "      <td>2.0</td>\n",
              "      <td>0.5000</td>\n",
              "      <td>0.7216</td>\n",
              "      <td>0.863</td>\n",
              "      <td>Chiayi City</td>\n",
              "      <td>西區</td>\n",
              "    </tr>\n",
              "  </tbody>\n",
              "</table>\n",
              "</div>"
            ],
            "text/plain": [
              "    year   hosp_code       hosp_name hosp_type  case  surgery  be_in_hosp  \\\n",
              "0  10504  1532040039            天成醫院      地區醫院     3      3.0      1.0000   \n",
              "1  10504   117030010       衛生福利部臺中醫院      區域醫院     2      2.0      1.0000   \n",
              "2  10504   501110514  三軍總醫院附設民眾診療服務處      醫學中心    24     32.0      0.7500   \n",
              "3  10504   601160016         臺北榮民總醫院      醫學中心    47     52.0      0.9038   \n",
              "4  10504   622020017     臺中榮民總醫院嘉義分院      區域醫院     1      2.0      0.5000   \n",
              "\n",
              "    區域指標值  全國指標值           city village  \n",
              "0  0.8559  0.863   Taoyuan City     楊梅區  \n",
              "1  0.8944  0.863  Taichung City      西區  \n",
              "2  0.8964  0.863    Taipei City     內湖區  \n",
              "3  0.8964  0.863    Taipei City     北投區  \n",
              "4  0.7216  0.863    Chiayi City      西區  "
            ]
          },
          "metadata": {
            "tags": []
          },
          "execution_count": 85
        }
      ]
    },
    {
      "metadata": {
        "id": "SvYRiO9ycv8e",
        "colab_type": "code",
        "colab": {
          "base_uri": "https://localhost:8080/",
          "height": 68
        },
        "outputId": "b37d2b56-927d-4d87-86a5-ce03a4953e04"
      },
      "cell_type": "code",
      "source": [
        "brain_stroke[\"year\"].unique()"
      ],
      "execution_count": 86,
      "outputs": [
        {
          "output_type": "execute_result",
          "data": {
            "text/plain": [
              "array([10504, 10201, 10302, 10101, 10203, 10501, 10202, 10402, 10204,\n",
              "       10102, 10404, 10301, 10304, 10401, 10303, 10403, 10103, 10503,\n",
              "       10502, 10603, 10702, 10604, 10602, 10701])"
            ]
          },
          "metadata": {
            "tags": []
          },
          "execution_count": 86
        }
      ]
    },
    {
      "metadata": {
        "id": "PRpA-fYQc8OB",
        "colab_type": "code",
        "colab": {
          "base_uri": "https://localhost:8080/",
          "height": 136
        },
        "outputId": "6e9b808a-9e0a-4b04-8f45-7962d204148a"
      },
      "cell_type": "code",
      "source": [
        "brain_stroke[\"city\"].unique()"
      ],
      "execution_count": 87,
      "outputs": [
        {
          "output_type": "execute_result",
          "data": {
            "text/plain": [
              "array(['Taoyuan City', 'Taichung City', 'Taipei City', 'Chiayi City',\n",
              "       'Kaohsiung City', 'Changhua County', 'Keelung City',\n",
              "       'Hsinchu City', 'Nantou County', 'Chiayi County',\n",
              "       'Pingtung County', 'Tainan City', 'Yilan County',\n",
              "       'New Taipei City', 'Hsinchu County', 'Yunlin County',\n",
              "       'Taitung County', 'Miaoli County', 'Hualien County', 'Wuhu County'],\n",
              "      dtype=object)"
            ]
          },
          "metadata": {
            "tags": []
          },
          "execution_count": 87
        }
      ]
    },
    {
      "metadata": {
        "id": "lhUDyVpCc9jr",
        "colab_type": "code",
        "colab": {
          "base_uri": "https://localhost:8080/",
          "height": 85
        },
        "outputId": "9cd6cf7a-c0d9-479f-e7ac-a4a9bf40fcb9"
      },
      "cell_type": "code",
      "source": [
        "#取出台北市資料\n",
        "is_taipei = brain_stroke[\"city\"] == \"Taipei City\"\n",
        "is_center = brain_stroke[\"hosp_type\"] == \"醫學中心\"\n",
        "is_year = brain_stroke[\"year\"] == 10701\n",
        "taipei_per_season = brain_stroke[is_taipei]\n",
        "taipei_per_season.tail()\n",
        "\n",
        "grouped = taipei_per_season.groupby(\"year\")\n",
        "case_counts_ser = grouped[\"case\"].sum()\n",
        "case_counts_ser.index"
      ],
      "execution_count": 94,
      "outputs": [
        {
          "output_type": "execute_result",
          "data": {
            "text/plain": [
              "Int64Index([10101, 10102, 10103, 10201, 10202, 10203, 10204, 10301, 10302,\n",
              "            10303, 10304, 10401, 10402, 10403, 10404, 10501, 10502, 10503,\n",
              "            10504, 10602, 10603, 10604, 10701, 10702],\n",
              "           dtype='int64', name='year')"
            ]
          },
          "metadata": {
            "tags": []
          },
          "execution_count": 94
        }
      ]
    },
    {
      "metadata": {
        "id": "oFvbcIh8dAvW",
        "colab_type": "code",
        "colab": {
          "base_uri": "https://localhost:8080/",
          "height": 68
        },
        "outputId": "421969b5-293d-4df6-aec3-5e3f6d11bbfb"
      },
      "cell_type": "code",
      "source": [
        "grouped = brain_stroke.groupby(\"year\")\n",
        "case_counts_ser = grouped[\"case\"].sum()\n",
        "case_counts_ser.index\n",
        "case_counts_ser.values"
      ],
      "execution_count": 102,
      "outputs": [
        {
          "output_type": "execute_result",
          "data": {
            "text/plain": [
              "array([3603, 1891, 1883, 1772, 2053, 2058, 2195, 1923, 2217, 2028, 2014,\n",
              "       1898, 2165, 1985, 2052, 1799, 2134, 2036, 2009, 2156, 2182, 2160,\n",
              "       1907, 2443])"
            ]
          },
          "metadata": {
            "tags": []
          },
          "execution_count": 102
        }
      ]
    },
    {
      "metadata": {
        "id": "kfrCVj__iZUC",
        "colab_type": "text"
      },
      "cell_type": "markdown",
      "source": [
        "##歷年每季腦中風人數\n",
        "\n",
        "天氣變化，氣溫急速下降是一種外來的壓力，會改變心臟血管收縮狀態，增加心臟負荷，導致心肌缺氧變化，因而引發心肌梗塞。高血壓、心血管疾病老人常容易發生腦中風。，因此想知道季節是否與腦中風人數有關？"
      ]
    },
    {
      "metadata": {
        "id": "IR1r36MEdJU_",
        "colab_type": "code",
        "colab": {
          "base_uri": "https://localhost:8080/",
          "height": 383
        },
        "outputId": "5ebb7ea0-6a80-4504-ce1c-5ae7c2dd0c88"
      },
      "cell_type": "code",
      "source": [
        "import matplotlib.pyplot as plt\n",
        "figure, axis = plt.subplots(figsize=(15, 5))\n",
        "continent_cnts = len(case_counts_ser.values)\n",
        "plt.bar(range(continent_cnts), case_counts_ser.values, color=\"#f08080\")\n",
        "plt.xticks(range(continent_cnts), case_counts_ser.index)\n",
        "plt.title(\"How many cases in every season?\")\n",
        "plt.xlabel(\"season\")\n",
        "plt.ylabel(\"case counts\")\n",
        "plt.show()"
      ],
      "execution_count": 104,
      "outputs": [
        {
          "output_type": "stream",
          "text": [
            "/usr/local/lib/python3.6/dist-packages/matplotlib/font_manager.py:1320: UserWarning: findfont: Font family ['sans-serif'] not found. Falling back to DejaVu Sans\n",
            "  (prop.get_family(), self.defaultFamily[fontext]))\n"
          ],
          "name": "stderr"
        },
        {
          "output_type": "display_data",
          "data": {
            "image/png": "[encoded data removed]",
            "text/plain": [
              "<matplotlib.figure.Figure at 0x7f5b4bea6b70>"
            ]
          },
          "metadata": {
            "tags": []
          }
        }
      ]
    },
    {
      "metadata": {
        "id": "qXDjDC_RppAt",
        "colab_type": "text"
      },
      "cell_type": "markdown",
      "source": [
        "冬季並無較其他季節有更高的發生次數"
      ]
    },
    {
      "metadata": {
        "id": "GEo5Cil6dKkl",
        "colab_type": "code",
        "colab": {
          "base_uri": "https://localhost:8080/",
          "height": 196
        },
        "outputId": "99b41edf-99e3-4ba0-a4b0-b3e6c4956469"
      },
      "cell_type": "code",
      "source": [
        "year107_s1 = brain_stroke[is_year]\n",
        "year107_s1.head()"
      ],
      "execution_count": 105,
      "outputs": [
        {
          "output_type": "execute_result",
          "data": {
            "text/html": [
              "<div>\n",
              "<style scoped>\n",
              "    .dataframe tbody tr th:only-of-type {\n",
              "        vertical-align: middle;\n",
              "    }\n",
              "\n",
              "    .dataframe tbody tr th {\n",
              "        vertical-align: top;\n",
              "    }\n",
              "\n",
              "    .dataframe thead th {\n",
              "        text-align: right;\n",
              "    }\n",
              "</style>\n",
              "<table border=\"1\" class=\"dataframe\">\n",
              "  <thead>\n",
              "    <tr style=\"text-align: right;\">\n",
              "      <th></th>\n",
              "      <th>year</th>\n",
              "      <th>hosp_code</th>\n",
              "      <th>hosp_name</th>\n",
              "      <th>hosp_type</th>\n",
              "      <th>case</th>\n",
              "      <th>surgery</th>\n",
              "      <th>be_in_hosp</th>\n",
              "      <th>區域指標值</th>\n",
              "      <th>全國指標值</th>\n",
              "      <th>city</th>\n",
              "      <th>village</th>\n",
              "    </tr>\n",
              "  </thead>\n",
              "  <tbody>\n",
              "    <tr>\n",
              "      <th>2457</th>\n",
              "      <td>10701</td>\n",
              "      <td>101090517</td>\n",
              "      <td>Taipei City立聯合醫院</td>\n",
              "      <td>區域醫院</td>\n",
              "      <td>43</td>\n",
              "      <td>44.0</td>\n",
              "      <td>0.9773</td>\n",
              "      <td>0.0</td>\n",
              "      <td>0.0</td>\n",
              "      <td>Taipei City</td>\n",
              "      <td>大同區</td>\n",
              "    </tr>\n",
              "    <tr>\n",
              "      <th>2458</th>\n",
              "      <td>10701</td>\n",
              "      <td>111070010</td>\n",
              "      <td>衛生福利部基隆醫院</td>\n",
              "      <td>區域醫院</td>\n",
              "      <td>6</td>\n",
              "      <td>6.0</td>\n",
              "      <td>1.0000</td>\n",
              "      <td>0.0</td>\n",
              "      <td>0.0</td>\n",
              "      <td>Keelung City</td>\n",
              "      <td>信義區</td>\n",
              "    </tr>\n",
              "    <tr>\n",
              "      <th>2459</th>\n",
              "      <td>10701</td>\n",
              "      <td>131020016</td>\n",
              "      <td>New Taipei City立聯合醫院</td>\n",
              "      <td>區域醫院</td>\n",
              "      <td>5</td>\n",
              "      <td>6.0</td>\n",
              "      <td>0.8333</td>\n",
              "      <td>0.0</td>\n",
              "      <td>0.0</td>\n",
              "      <td>New Taipei City</td>\n",
              "      <td>三重區</td>\n",
              "    </tr>\n",
              "    <tr>\n",
              "      <th>2460</th>\n",
              "      <td>10701</td>\n",
              "      <td>143010011</td>\n",
              "      <td>衛生福利部屏東醫院</td>\n",
              "      <td>區域醫院</td>\n",
              "      <td>4</td>\n",
              "      <td>5.0</td>\n",
              "      <td>0.8000</td>\n",
              "      <td>0.0</td>\n",
              "      <td>0.0</td>\n",
              "      <td>Pingtung County</td>\n",
              "      <td>屏東市</td>\n",
              "    </tr>\n",
              "    <tr>\n",
              "      <th>2461</th>\n",
              "      <td>10701</td>\n",
              "      <td>412040012</td>\n",
              "      <td>國立臺灣大學醫學院附設醫院新竹分院</td>\n",
              "      <td>區域醫院</td>\n",
              "      <td>8</td>\n",
              "      <td>11.0</td>\n",
              "      <td>0.7273</td>\n",
              "      <td>0.0</td>\n",
              "      <td>0.0</td>\n",
              "      <td>Hsinchu City</td>\n",
              "      <td>北區</td>\n",
              "    </tr>\n",
              "  </tbody>\n",
              "</table>\n",
              "</div>"
            ],
            "text/plain": [
              "       year  hosp_code             hosp_name hosp_type  case  surgery  \\\n",
              "2457  10701  101090517      Taipei City立聯合醫院      區域醫院    43     44.0   \n",
              "2458  10701  111070010             衛生福利部基隆醫院      區域醫院     6      6.0   \n",
              "2459  10701  131020016  New Taipei City立聯合醫院      區域醫院     5      6.0   \n",
              "2460  10701  143010011             衛生福利部屏東醫院      區域醫院     4      5.0   \n",
              "2461  10701  412040012     國立臺灣大學醫學院附設醫院新竹分院      區域醫院     8     11.0   \n",
              "\n",
              "      be_in_hosp  區域指標值  全國指標值             city village  \n",
              "2457      0.9773    0.0    0.0      Taipei City     大同區  \n",
              "2458      1.0000    0.0    0.0     Keelung City     信義區  \n",
              "2459      0.8333    0.0    0.0  New Taipei City     三重區  \n",
              "2460      0.8000    0.0    0.0  Pingtung County     屏東市  \n",
              "2461      0.7273    0.0    0.0     Hsinchu City      北區  "
            ]
          },
          "metadata": {
            "tags": []
          },
          "execution_count": 105
        }
      ]
    },
    {
      "metadata": {
        "id": "Ky693p0mjGH9",
        "colab_type": "code",
        "colab": {
          "base_uri": "https://localhost:8080/",
          "height": 117
        },
        "outputId": "02f4cf07-1a0e-4a66-ff38-f6eca23a5cd6"
      },
      "cell_type": "code",
      "source": [
        "groupbe2 = year107_s1.groupby(\"city\")\n",
        "case_sum_city = groupbe2[\"case\"].sum().sort_values(ascending=False)\n",
        "case_sum_city.index"
      ],
      "execution_count": 106,
      "outputs": [
        {
          "output_type": "execute_result",
          "data": {
            "text/plain": [
              "Index(['Taipei City', 'Taichung City', 'New Taipei City', 'Kaohsiung City',\n",
              "       'Tainan City', 'Taoyuan City', 'Changhua County', 'Yilan County',\n",
              "       'Hsinchu City', 'Nantou County', 'Keelung City', 'Taitung County',\n",
              "       'Hualien County', 'Chiayi City', 'Pingtung County', 'Chiayi County',\n",
              "       'Yunlin County', 'Miaoli County', 'Wuhu County', 'Hsinchu County'],\n",
              "      dtype='object', name='city')"
            ]
          },
          "metadata": {
            "tags": []
          },
          "execution_count": 106
        }
      ]
    },
    {
      "metadata": {
        "id": "p17e26lhkqWV",
        "colab_type": "code",
        "colab": {
          "base_uri": "https://localhost:8080/",
          "height": 50
        },
        "outputId": "edc1cd7c-accc-4a14-c813-6de813fb1d2a"
      },
      "cell_type": "code",
      "source": [
        "case_sum_city.values"
      ],
      "execution_count": 107,
      "outputs": [
        {
          "output_type": "execute_result",
          "data": {
            "text/plain": [
              "array([370, 354, 255, 237, 146, 130, 120,  62,  49,  37,  29,  22,  21,\n",
              "        19,  15,  15,  15,  10,   1,   0])"
            ]
          },
          "metadata": {
            "tags": []
          },
          "execution_count": 107
        }
      ]
    },
    {
      "metadata": {
        "id": "KJeW5cUElBqq",
        "colab_type": "text"
      },
      "cell_type": "markdown",
      "source": [
        "##107年第一季各縣市case數\n",
        "想知道各地區腦中風人數是相差甚大？"
      ]
    },
    {
      "metadata": {
        "id": "8GHsBtdjkrfX",
        "colab_type": "code",
        "colab": {
          "base_uri": "https://localhost:8080/",
          "height": 403
        },
        "outputId": "5bed2de6-e1e7-4e73-f005-ce33506cd4e2"
      },
      "cell_type": "code",
      "source": [
        "import matplotlib.pyplot as plt\n",
        "amount = len(case_sum_city.values)\n",
        "figure, axis = plt.subplots(figsize=(29, 5))\n",
        "plt.bar(range(amount), case_sum_city.values, color=\"#ffa500\")\n",
        "plt.xticks(range(amount), case_sum_city.index)\n",
        "plt.title(\"How many cases are there in every city 107season?\")\n",
        "plt.xlabel(\"city\")\n",
        "plt.ylabel(\"case counts\")\n",
        "\n",
        "plt.show()"
      ],
      "execution_count": 111,
      "outputs": [
        {
          "output_type": "stream",
          "text": [
            "/usr/local/lib/python3.6/dist-packages/matplotlib/font_manager.py:1320: UserWarning: findfont: Font family ['sans-serif'] not found. Falling back to DejaVu Sans\n",
            "  (prop.get_family(), self.defaultFamily[fontext]))\n"
          ],
          "name": "stderr"
        },
        {
          "output_type": "display_data",
          "data": {
            "image/png": "[encoded data removed]",
            "text/plain": [
              "<matplotlib.figure.Figure at 0x7f5b4a0e8390>"
            ]
          },
          "metadata": {
            "tags": []
          }
        }
      ]
    },
    {
      "metadata": {
        "id": "hA-lefG1pI-L",
        "colab_type": "text"
      },
      "cell_type": "markdown",
      "source": [
        "##發生案例數與手術數之關聯\n",
        "\n",
        "耳聞腦中風於將來生活有很大的影響，需要手術治療，因此好奇發生案例與需要手術是否有很大的關聯？"
      ]
    },
    {
      "metadata": {
        "id": "BwqugOQ4ktXl",
        "colab_type": "code",
        "colab": {
          "base_uri": "https://localhost:8080/",
          "height": 430
        },
        "outputId": "f428ada9-6bdf-4aa9-cf55-417974c84641"
      },
      "cell_type": "code",
      "source": [
        "plt.scatter(city_total[\"case\"].sum(), city_total[\"surgery\"].sum(), color=\"#ccff00\")\n",
        "plt.title(\"The relationship between surgery and case\")\n",
        "plt.xlabel(\"case\")\n",
        "plt.ylabel(\"surgery\")\n"
      ],
      "execution_count": 134,
      "outputs": [
        {
          "output_type": "execute_result",
          "data": {
            "text/plain": [
              "Text(0,0.5,'surgery')"
            ]
          },
          "metadata": {
            "tags": []
          },
          "execution_count": 134
        },
        {
          "output_type": "stream",
          "text": [
            "/usr/local/lib/python3.6/dist-packages/matplotlib/font_manager.py:1320: UserWarning: findfont: Font family ['sans-serif'] not found. Falling back to DejaVu Sans\n",
            "  (prop.get_family(), self.defaultFamily[fontext]))\n"
          ],
          "name": "stderr"
        },
        {
          "output_type": "display_data",
          "data": {
            "image/png": "[encoded data removed]",
            "text/plain": [
              "<matplotlib.figure.Figure at 0x7f5b4bee8be0>"
            ]
          },
          "metadata": {
            "tags": []
          }
        }
      ]
    },
    {
      "metadata": {
        "id": "bwqa-mNMmcxa",
        "colab_type": "code",
        "colab": {}
      },
      "cell_type": "code",
      "source": [
        ""
      ],
      "execution_count": 0,
      "outputs": []
    }
  ]
}