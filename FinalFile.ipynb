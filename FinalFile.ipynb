{
  "nbformat": 4,
  "nbformat_minor": 0,
  "metadata": {
    "colab": {
      "name": "dataScienceHW.ipynb",
      "version": "0.3.2",
      "provenance": [],
      "collapsed_sections": [],
      "toc_visible": true
    },
    "kernelspec": {
      "name": "python3",
      "display_name": "Python 3"
    }
  },
  "cells": [
    {
      "metadata": {
        "id": "pXHGWcMjXeTH",
        "colab_type": "text"
      },
      "cell_type": "markdown",
      "source": [
        "#[google colab連結](https://colab.research.google.com/drive/1v360tjnzKcTemAqyXqrK-U_UEKRoqOf4)\n"
      ]
    },
    {
      "metadata": {
        "id": "cY13w__xGI0y",
        "colab_type": "text"
      },
      "cell_type": "markdown",
      "source": [
        "#腦中風人數"
      ]
    },
    {
      "metadata": {
        "id": "kwOdblA6bH0t",
        "colab_type": "code",
        "outputId": "8f7b4109-a5e2-420c-b5e6-991c2b35d638",
        "colab": {
          "base_uri": "https://localhost:8080/",
          "height": 498
        }
      },
      "cell_type": "code",
      "source": [
        "#採用政府公開資料-腦中風病人住院日起一百八十日內之平均住院日數(包含住院期間及急性後期照護)\n",
        "import pandas as pd\n",
        "brain_stroke = pd.read_excel(\"腦中風人數.xlsx\")\n",
        "brain_stroke.head()"
      ],
      "execution_count": 2,
      "outputs": [
        {
          "output_type": "execute_result",
          "data": {
            "text/html": [
              "<div>\n",
              "<style scoped>\n",
              "    .dataframe tbody tr th:only-of-type {\n",
              "        vertical-align: middle;\n",
              "    }\n",
              "\n",
              "    .dataframe tbody tr th {\n",
              "        vertical-align: top;\n",
              "    }\n",
              "\n",
              "    .dataframe thead th {\n",
              "        text-align: right;\n",
              "    }\n",
              "</style>\n",
              "<table border=\"1\" class=\"dataframe\">\n",
              "  <thead>\n",
              "    <tr style=\"text-align: right;\">\n",
              "      <th></th>\n",
              "      <th>年度季別</th>\n",
              "      <th>醫事機構代碼</th>\n",
              "      <th>醫事機構名稱</th>\n",
              "      <th>特約類別</th>\n",
              "      <th>腦中風病人住院日起一百八十日內之案件件數</th>\n",
              "      <th>腦中風病人住院日起一百八十日內之手術件數</th>\n",
              "      <th>腦中風病人住院日起一百八十日內之平均住院日數</th>\n",
              "      <th>所屬分區業務組指標值</th>\n",
              "      <th>全國指標值</th>\n",
              "      <th>縣市別</th>\n",
              "      <th>行政區</th>\n",
              "    </tr>\n",
              "  </thead>\n",
              "  <tbody>\n",
              "    <tr>\n",
              "      <th>0</th>\n",
              "      <td>105年第四季</td>\n",
              "      <td>1532040039</td>\n",
              "      <td>天成醫院</td>\n",
              "      <td>地區醫院</td>\n",
              "      <td>3</td>\n",
              "      <td>3.0</td>\n",
              "      <td>1.0000</td>\n",
              "      <td>0.8559</td>\n",
              "      <td>0.863</td>\n",
              "      <td>桃園市</td>\n",
              "      <td>楊梅區</td>\n",
              "    </tr>\n",
              "    <tr>\n",
              "      <th>1</th>\n",
              "      <td>105年第四季</td>\n",
              "      <td>117030010</td>\n",
              "      <td>衛生福利部臺中醫院</td>\n",
              "      <td>區域醫院</td>\n",
              "      <td>2</td>\n",
              "      <td>2.0</td>\n",
              "      <td>1.0000</td>\n",
              "      <td>0.8944</td>\n",
              "      <td>0.863</td>\n",
              "      <td>臺中市</td>\n",
              "      <td>西區</td>\n",
              "    </tr>\n",
              "    <tr>\n",
              "      <th>2</th>\n",
              "      <td>105年第四季</td>\n",
              "      <td>501110514</td>\n",
              "      <td>三軍總醫院附設民眾診療服務處</td>\n",
              "      <td>醫學中心</td>\n",
              "      <td>24</td>\n",
              "      <td>32.0</td>\n",
              "      <td>0.7500</td>\n",
              "      <td>0.8964</td>\n",
              "      <td>0.863</td>\n",
              "      <td>臺北市</td>\n",
              "      <td>內湖區</td>\n",
              "    </tr>\n",
              "    <tr>\n",
              "      <th>3</th>\n",
              "      <td>105年第四季</td>\n",
              "      <td>601160016</td>\n",
              "      <td>臺北榮民總醫院</td>\n",
              "      <td>醫學中心</td>\n",
              "      <td>47</td>\n",
              "      <td>52.0</td>\n",
              "      <td>0.9038</td>\n",
              "      <td>0.8964</td>\n",
              "      <td>0.863</td>\n",
              "      <td>臺北市</td>\n",
              "      <td>北投區</td>\n",
              "    </tr>\n",
              "    <tr>\n",
              "      <th>4</th>\n",
              "      <td>105年第四季</td>\n",
              "      <td>622020017</td>\n",
              "      <td>臺中榮民總醫院嘉義分院</td>\n",
              "      <td>區域醫院</td>\n",
              "      <td>1</td>\n",
              "      <td>2.0</td>\n",
              "      <td>0.5000</td>\n",
              "      <td>0.7216</td>\n",
              "      <td>0.863</td>\n",
              "      <td>嘉義市</td>\n",
              "      <td>西區</td>\n",
              "    </tr>\n",
              "  </tbody>\n",
              "</table>\n",
              "</div>"
            ],
            "text/plain": [
              "      年度季別      醫事機構代碼          醫事機構名稱  特約類別  腦中風病人住院日起一百八十日內之案件件數  \\\n",
              "0  105年第四季  1532040039            天成醫院  地區醫院                     3   \n",
              "1  105年第四季   117030010       衛生福利部臺中醫院  區域醫院                     2   \n",
              "2  105年第四季   501110514  三軍總醫院附設民眾診療服務處  醫學中心                    24   \n",
              "3  105年第四季   601160016         臺北榮民總醫院  醫學中心                    47   \n",
              "4  105年第四季   622020017     臺中榮民總醫院嘉義分院  區域醫院                     1   \n",
              "\n",
              "   腦中風病人住院日起一百八十日內之手術件數  腦中風病人住院日起一百八十日內之平均住院日數  所屬分區業務組指標值  全國指標值  縣市別  行政區  \n",
              "0                   3.0                  1.0000      0.8559  0.863  桃園市  楊梅區  \n",
              "1                   2.0                  1.0000      0.8944  0.863  臺中市   西區  \n",
              "2                  32.0                  0.7500      0.8964  0.863  臺北市  內湖區  \n",
              "3                  52.0                  0.9038      0.8964  0.863  臺北市  北投區  \n",
              "4                   2.0                  0.5000      0.7216  0.863  嘉義市   西區  "
            ]
          },
          "metadata": {
            "tags": []
          },
          "execution_count": 2
        }
      ]
    },
    {
      "metadata": {
        "id": "oKEC7ViuxJ0A",
        "colab_type": "code",
        "colab": {
          "base_uri": "https://localhost:8080/",
          "height": 195
        },
        "outputId": "8c6fd0c3-fa59-4bcd-aeb8-2541ea7f677b"
      },
      "cell_type": "code",
      "source": [
        "#更換欄名\n",
        "col_names = [\"year\", \"hosp_code\", \"hosp_name\", \"hosp_type\", \"case\", \"surgery\", \"be_in_hosp\", \"區域指標值\", \"全國指標值\", \"city\", \"village\"]\n",
        "brain_stroke.columns = col_names\n",
        "brain_stroke.head()"
      ],
      "execution_count": 3,
      "outputs": [
        {
          "output_type": "execute_result",
          "data": {
            "text/html": [
              "<div>\n",
              "<style scoped>\n",
              "    .dataframe tbody tr th:only-of-type {\n",
              "        vertical-align: middle;\n",
              "    }\n",
              "\n",
              "    .dataframe tbody tr th {\n",
              "        vertical-align: top;\n",
              "    }\n",
              "\n",
              "    .dataframe thead th {\n",
              "        text-align: right;\n",
              "    }\n",
              "</style>\n",
              "<table border=\"1\" class=\"dataframe\">\n",
              "  <thead>\n",
              "    <tr style=\"text-align: right;\">\n",
              "      <th></th>\n",
              "      <th>year</th>\n",
              "      <th>hosp_code</th>\n",
              "      <th>hosp_name</th>\n",
              "      <th>hosp_type</th>\n",
              "      <th>case</th>\n",
              "      <th>surgery</th>\n",
              "      <th>be_in_hosp</th>\n",
              "      <th>區域指標值</th>\n",
              "      <th>全國指標值</th>\n",
              "      <th>city</th>\n",
              "      <th>village</th>\n",
              "    </tr>\n",
              "  </thead>\n",
              "  <tbody>\n",
              "    <tr>\n",
              "      <th>0</th>\n",
              "      <td>105年第四季</td>\n",
              "      <td>1532040039</td>\n",
              "      <td>天成醫院</td>\n",
              "      <td>地區醫院</td>\n",
              "      <td>3</td>\n",
              "      <td>3.0</td>\n",
              "      <td>1.0000</td>\n",
              "      <td>0.8559</td>\n",
              "      <td>0.863</td>\n",
              "      <td>桃園市</td>\n",
              "      <td>楊梅區</td>\n",
              "    </tr>\n",
              "    <tr>\n",
              "      <th>1</th>\n",
              "      <td>105年第四季</td>\n",
              "      <td>117030010</td>\n",
              "      <td>衛生福利部臺中醫院</td>\n",
              "      <td>區域醫院</td>\n",
              "      <td>2</td>\n",
              "      <td>2.0</td>\n",
              "      <td>1.0000</td>\n",
              "      <td>0.8944</td>\n",
              "      <td>0.863</td>\n",
              "      <td>臺中市</td>\n",
              "      <td>西區</td>\n",
              "    </tr>\n",
              "    <tr>\n",
              "      <th>2</th>\n",
              "      <td>105年第四季</td>\n",
              "      <td>501110514</td>\n",
              "      <td>三軍總醫院附設民眾診療服務處</td>\n",
              "      <td>醫學中心</td>\n",
              "      <td>24</td>\n",
              "      <td>32.0</td>\n",
              "      <td>0.7500</td>\n",
              "      <td>0.8964</td>\n",
              "      <td>0.863</td>\n",
              "      <td>臺北市</td>\n",
              "      <td>內湖區</td>\n",
              "    </tr>\n",
              "    <tr>\n",
              "      <th>3</th>\n",
              "      <td>105年第四季</td>\n",
              "      <td>601160016</td>\n",
              "      <td>臺北榮民總醫院</td>\n",
              "      <td>醫學中心</td>\n",
              "      <td>47</td>\n",
              "      <td>52.0</td>\n",
              "      <td>0.9038</td>\n",
              "      <td>0.8964</td>\n",
              "      <td>0.863</td>\n",
              "      <td>臺北市</td>\n",
              "      <td>北投區</td>\n",
              "    </tr>\n",
              "    <tr>\n",
              "      <th>4</th>\n",
              "      <td>105年第四季</td>\n",
              "      <td>622020017</td>\n",
              "      <td>臺中榮民總醫院嘉義分院</td>\n",
              "      <td>區域醫院</td>\n",
              "      <td>1</td>\n",
              "      <td>2.0</td>\n",
              "      <td>0.5000</td>\n",
              "      <td>0.7216</td>\n",
              "      <td>0.863</td>\n",
              "      <td>嘉義市</td>\n",
              "      <td>西區</td>\n",
              "    </tr>\n",
              "  </tbody>\n",
              "</table>\n",
              "</div>"
            ],
            "text/plain": [
              "      year   hosp_code       hosp_name hosp_type  case  surgery  be_in_hosp  \\\n",
              "0  105年第四季  1532040039            天成醫院      地區醫院     3      3.0      1.0000   \n",
              "1  105年第四季   117030010       衛生福利部臺中醫院      區域醫院     2      2.0      1.0000   \n",
              "2  105年第四季   501110514  三軍總醫院附設民眾診療服務處      醫學中心    24     32.0      0.7500   \n",
              "3  105年第四季   601160016         臺北榮民總醫院      醫學中心    47     52.0      0.9038   \n",
              "4  105年第四季   622020017     臺中榮民總醫院嘉義分院      區域醫院     1      2.0      0.5000   \n",
              "\n",
              "    區域指標值  全國指標值 city village  \n",
              "0  0.8559  0.863  桃園市     楊梅區  \n",
              "1  0.8944  0.863  臺中市      西區  \n",
              "2  0.8964  0.863  臺北市     內湖區  \n",
              "3  0.8964  0.863  臺北市     北投區  \n",
              "4  0.7216  0.863  嘉義市      西區  "
            ]
          },
          "metadata": {
            "tags": []
          },
          "execution_count": 3
        }
      ]
    },
    {
      "metadata": {
        "id": "z6qRpbspkJMY",
        "colab_type": "code",
        "colab": {
          "base_uri": "https://localhost:8080/",
          "height": 34
        },
        "outputId": "5d0d5703-dda1-4c82-982f-31e515828b46"
      },
      "cell_type": "code",
      "source": [
        "brain_stroke.shape"
      ],
      "execution_count": 4,
      "outputs": [
        {
          "output_type": "execute_result",
          "data": {
            "text/plain": [
              "(2566, 11)"
            ]
          },
          "metadata": {
            "tags": []
          },
          "execution_count": 4
        }
      ]
    },
    {
      "metadata": {
        "id": "91PbEkI2dF9F",
        "colab_type": "code",
        "colab": {
          "base_uri": "https://localhost:8080/",
          "height": 101
        },
        "outputId": "02bfa028-daa7-4f12-f93d-80d8d4b7d7ce"
      },
      "cell_type": "code",
      "source": [
        "#有多少時間點\n",
        "brain_stroke[\"year\"].unique()"
      ],
      "execution_count": 5,
      "outputs": [
        {
          "output_type": "execute_result",
          "data": {
            "text/plain": [
              "array(['105年第四季', '102年第一季', '103年第二季', '101年第一季', '102年第三季', '105年第一季',\n",
              "       '102年第二季', '104年第二季', '102年第四季', '101年第四季', '101年第二季', '104年第四季',\n",
              "       '103年第一季', '103年第四季', '104年第一季', '103年第三季', '104年第三季', '101年第三季',\n",
              "       '105年第三季', '105年第二季', '106年第三季', '107年第二季', '106年第四季', '106年第二季',\n",
              "       '107年第一季'], dtype=object)"
            ]
          },
          "metadata": {
            "tags": []
          },
          "execution_count": 5
        }
      ]
    },
    {
      "metadata": {
        "id": "gfXP9V2j4v2s",
        "colab_type": "code",
        "colab": {
          "base_uri": "https://localhost:8080/",
          "height": 67
        },
        "outputId": "023b7457-d677-4d84-c7af-f40dcf495be2"
      },
      "cell_type": "code",
      "source": [
        "brain_stroke[\"city\"].unique()"
      ],
      "execution_count": 6,
      "outputs": [
        {
          "output_type": "execute_result",
          "data": {
            "text/plain": [
              "array(['桃園市', '臺中市', '臺北市', '嘉義市', '高雄市', '彰化縣', '基隆市', '新竹市', '南投縣',\n",
              "       '嘉義縣', '屏東縣', '臺南市', '宜蘭縣', '新北市', '新竹縣', '雲林縣', '臺東縣', '苗栗縣',\n",
              "       '花蓮縣', '澎湖縣'], dtype=object)"
            ]
          },
          "metadata": {
            "tags": []
          },
          "execution_count": 6
        }
      ]
    },
    {
      "metadata": {
        "id": "oM-CoDOEfO4n",
        "colab_type": "code",
        "colab": {
          "base_uri": "https://localhost:8080/",
          "height": 296
        },
        "outputId": "ad4213df-b206-4638-f32e-185d2b683956"
      },
      "cell_type": "code",
      "source": [
        "#取出台北市資料\n",
        "is_taipei = brain_stroke[\"city\"] == \"臺北市\"\n",
        "is_center = brain_stroke[\"hosp_type\"] == \"醫學中心\"\n",
        "is_year = brain_stroke[\"year\"] == \"107年第一季\"\n",
        "taipei_per_season = brain_stroke[is_taipei]\n",
        "taipei_per_season.tail()"
      ],
      "execution_count": 7,
      "outputs": [
        {
          "output_type": "execute_result",
          "data": {
            "text/html": [
              "<div>\n",
              "<style scoped>\n",
              "    .dataframe tbody tr th:only-of-type {\n",
              "        vertical-align: middle;\n",
              "    }\n",
              "\n",
              "    .dataframe tbody tr th {\n",
              "        vertical-align: top;\n",
              "    }\n",
              "\n",
              "    .dataframe thead th {\n",
              "        text-align: right;\n",
              "    }\n",
              "</style>\n",
              "<table border=\"1\" class=\"dataframe\">\n",
              "  <thead>\n",
              "    <tr style=\"text-align: right;\">\n",
              "      <th></th>\n",
              "      <th>year</th>\n",
              "      <th>hosp_code</th>\n",
              "      <th>hosp_name</th>\n",
              "      <th>hosp_type</th>\n",
              "      <th>case</th>\n",
              "      <th>surgery</th>\n",
              "      <th>be_in_hosp</th>\n",
              "      <th>區域指標值</th>\n",
              "      <th>全國指標值</th>\n",
              "      <th>city</th>\n",
              "      <th>village</th>\n",
              "    </tr>\n",
              "  </thead>\n",
              "  <tbody>\n",
              "    <tr>\n",
              "      <th>2512</th>\n",
              "      <td>107年第一季</td>\n",
              "      <td>1101160017</td>\n",
              "      <td>振興醫療財團法人振興醫院</td>\n",
              "      <td>區域醫院</td>\n",
              "      <td>39</td>\n",
              "      <td>42.0</td>\n",
              "      <td>0.9286</td>\n",
              "      <td>0.0</td>\n",
              "      <td>0.0</td>\n",
              "      <td>臺北市</td>\n",
              "      <td>北投區</td>\n",
              "    </tr>\n",
              "    <tr>\n",
              "      <th>2513</th>\n",
              "      <td>107年第一季</td>\n",
              "      <td>1101160026</td>\n",
              "      <td>醫療財團法人辜公亮基金會和信治癌中心醫院</td>\n",
              "      <td>區域醫院</td>\n",
              "      <td>1</td>\n",
              "      <td>1.0</td>\n",
              "      <td>1.0000</td>\n",
              "      <td>0.0</td>\n",
              "      <td>0.0</td>\n",
              "      <td>臺北市</td>\n",
              "      <td>北投區</td>\n",
              "    </tr>\n",
              "    <tr>\n",
              "      <th>2531</th>\n",
              "      <td>107年第一季</td>\n",
              "      <td>1301170017</td>\n",
              "      <td>臺北醫學大學附設醫院</td>\n",
              "      <td>區域醫院</td>\n",
              "      <td>19</td>\n",
              "      <td>23.0</td>\n",
              "      <td>0.8261</td>\n",
              "      <td>0.0</td>\n",
              "      <td>0.0</td>\n",
              "      <td>臺北市</td>\n",
              "      <td>信義區</td>\n",
              "    </tr>\n",
              "    <tr>\n",
              "      <th>2535</th>\n",
              "      <td>107年第一季</td>\n",
              "      <td>1501190031</td>\n",
              "      <td>西園醫院</td>\n",
              "      <td>地區醫院</td>\n",
              "      <td>4</td>\n",
              "      <td>4.0</td>\n",
              "      <td>1.0000</td>\n",
              "      <td>0.0</td>\n",
              "      <td>0.0</td>\n",
              "      <td>臺北市</td>\n",
              "      <td>萬華區</td>\n",
              "    </tr>\n",
              "    <tr>\n",
              "      <th>2555</th>\n",
              "      <td>107年第一季</td>\n",
              "      <td>1301200010</td>\n",
              "      <td>臺北市立萬芳醫院－委託財團法人臺北醫學大學辦理</td>\n",
              "      <td>醫學中心</td>\n",
              "      <td>46</td>\n",
              "      <td>48.0</td>\n",
              "      <td>0.9583</td>\n",
              "      <td>0.0</td>\n",
              "      <td>0.0</td>\n",
              "      <td>臺北市</td>\n",
              "      <td>文山區</td>\n",
              "    </tr>\n",
              "  </tbody>\n",
              "</table>\n",
              "</div>"
            ],
            "text/plain": [
              "         year   hosp_code                hosp_name hosp_type  case  surgery  \\\n",
              "2512  107年第一季  1101160017             振興醫療財團法人振興醫院      區域醫院    39     42.0   \n",
              "2513  107年第一季  1101160026     醫療財團法人辜公亮基金會和信治癌中心醫院      區域醫院     1      1.0   \n",
              "2531  107年第一季  1301170017               臺北醫學大學附設醫院      區域醫院    19     23.0   \n",
              "2535  107年第一季  1501190031                     西園醫院      地區醫院     4      4.0   \n",
              "2555  107年第一季  1301200010  臺北市立萬芳醫院－委託財團法人臺北醫學大學辦理      醫學中心    46     48.0   \n",
              "\n",
              "      be_in_hosp  區域指標值  全國指標值 city village  \n",
              "2512      0.9286    0.0    0.0  臺北市     北投區  \n",
              "2513      1.0000    0.0    0.0  臺北市     北投區  \n",
              "2531      0.8261    0.0    0.0  臺北市     信義區  \n",
              "2535      1.0000    0.0    0.0  臺北市     萬華區  \n",
              "2555      0.9583    0.0    0.0  臺北市     文山區  "
            ]
          },
          "metadata": {
            "tags": []
          },
          "execution_count": 7
        }
      ]
    },
    {
      "metadata": {
        "id": "WucVQtSNi9Y5",
        "colab_type": "code",
        "colab": {
          "base_uri": "https://localhost:8080/",
          "height": 118
        },
        "outputId": "c97bc659-dfbf-48d3-be63-dc5194ef3667"
      },
      "cell_type": "code",
      "source": [
        "grouped = taipei_per_season.groupby(\"year\")\n",
        "case_counts_ser = grouped[\"case\"].sum().sort_values(ascending=False)\n",
        "case_counts_ser.index"
      ],
      "execution_count": 8,
      "outputs": [
        {
          "output_type": "execute_result",
          "data": {
            "text/plain": [
              "Index(['107年第二季', '105年第二季', '102年第四季', '106年第三季', '105年第三季', '104年第二季',\n",
              "       '102年第三季', '106年第四季', '102年第二季', '106年第二季', '103年第四季', '103年第二季',\n",
              "       '103年第三季', '101年第二季', '104年第三季', '104年第四季', '105年第四季', '103年第一季',\n",
              "       '101年第四季', '101年第一季', '101年第三季', '102年第一季', '104年第一季', '107年第一季',\n",
              "       '105年第一季'],\n",
              "      dtype='object', name='year')"
            ]
          },
          "metadata": {
            "tags": []
          },
          "execution_count": 8
        }
      ]
    },
    {
      "metadata": {
        "id": "MHOTsgYWv2-E",
        "colab_type": "code",
        "colab": {
          "base_uri": "https://localhost:8080/",
          "height": 50
        },
        "outputId": "8a0d04b0-0749-49e6-c93e-0cfaa1ab881f"
      },
      "cell_type": "code",
      "source": [
        "case_counts_ser.values"
      ],
      "execution_count": 9,
      "outputs": [
        {
          "output_type": "execute_result",
          "data": {
            "text/plain": [
              "array([504, 480, 479, 452, 448, 444, 439, 438, 437, 433, 432, 432, 427,\n",
              "       420, 416, 414, 411, 407, 402, 383, 380, 378, 371, 370, 359])"
            ]
          },
          "metadata": {
            "tags": []
          },
          "execution_count": 9
        }
      ]
    },
    {
      "metadata": {
        "id": "TD5NJGVaBJ6E",
        "colab_type": "code",
        "colab": {
          "base_uri": "https://localhost:8080/",
          "height": 430
        },
        "outputId": "f52ae89b-4ab5-423f-fe95-49cdcc1fa90c"
      },
      "cell_type": "code",
      "source": [
        "import matplotlib.pyplot as plt\n",
        "continent_cnts = len(case_counts_ser.values)\n",
        "plt.bar(range(continent_cnts), case_counts_ser.values, color=\"#f08080\")\n",
        "plt.xticks(range(continent_cnts), case_counts_ser.index)\n",
        "plt.title(\"How many cases are there in Taipei every season?\")\n",
        "plt.xlabel(\"season\")\n",
        "plt.ylabel(\"case counts\")\n",
        "plt.rcParams['font.sans-serif']=['SimHei']\n",
        "plt.show()\n",
        "#matplotlib中文無法顯示"
      ],
      "execution_count": 11,
      "outputs": [
        {
          "output_type": "stream",
          "text": [
            "/usr/local/lib/python3.6/dist-packages/matplotlib/font_manager.py:1320: UserWarning: findfont: Font family ['sans-serif'] not found. Falling back to DejaVu Sans\n",
            "  (prop.get_family(), self.defaultFamily[fontext]))\n"
          ],
          "name": "stderr"
        },
        {
          "output_type": "display_data",
          "data": {
            "image/png": "[encoded data removed]",
            "text/plain": [
              "<matplotlib.figure.Figure at 0x7f8f13a36eb8>"
            ]
          },
          "metadata": {
            "tags": []
          }
        }
      ]
    },
    {
      "metadata": {
        "id": "8RFrLnD5z1p6",
        "colab_type": "code",
        "colab": {
          "base_uri": "https://localhost:8080/",
          "height": 195
        },
        "outputId": "7e43bc91-28dd-4a08-b2d0-a62db3431708"
      },
      "cell_type": "code",
      "source": [
        "#取出107年第一季資料\n",
        "year107_s1 = brain_stroke[is_year]\n",
        "year107_s1.head()\n"
      ],
      "execution_count": 12,
      "outputs": [
        {
          "output_type": "execute_result",
          "data": {
            "text/html": [
              "<div>\n",
              "<style scoped>\n",
              "    .dataframe tbody tr th:only-of-type {\n",
              "        vertical-align: middle;\n",
              "    }\n",
              "\n",
              "    .dataframe tbody tr th {\n",
              "        vertical-align: top;\n",
              "    }\n",
              "\n",
              "    .dataframe thead th {\n",
              "        text-align: right;\n",
              "    }\n",
              "</style>\n",
              "<table border=\"1\" class=\"dataframe\">\n",
              "  <thead>\n",
              "    <tr style=\"text-align: right;\">\n",
              "      <th></th>\n",
              "      <th>year</th>\n",
              "      <th>hosp_code</th>\n",
              "      <th>hosp_name</th>\n",
              "      <th>hosp_type</th>\n",
              "      <th>case</th>\n",
              "      <th>surgery</th>\n",
              "      <th>be_in_hosp</th>\n",
              "      <th>區域指標值</th>\n",
              "      <th>全國指標值</th>\n",
              "      <th>city</th>\n",
              "      <th>village</th>\n",
              "    </tr>\n",
              "  </thead>\n",
              "  <tbody>\n",
              "    <tr>\n",
              "      <th>2457</th>\n",
              "      <td>107年第一季</td>\n",
              "      <td>101090517</td>\n",
              "      <td>臺北市立聯合醫院</td>\n",
              "      <td>區域醫院</td>\n",
              "      <td>43</td>\n",
              "      <td>44.0</td>\n",
              "      <td>0.9773</td>\n",
              "      <td>0.0</td>\n",
              "      <td>0.0</td>\n",
              "      <td>臺北市</td>\n",
              "      <td>大同區</td>\n",
              "    </tr>\n",
              "    <tr>\n",
              "      <th>2458</th>\n",
              "      <td>107年第一季</td>\n",
              "      <td>111070010</td>\n",
              "      <td>衛生福利部基隆醫院</td>\n",
              "      <td>區域醫院</td>\n",
              "      <td>6</td>\n",
              "      <td>6.0</td>\n",
              "      <td>1.0000</td>\n",
              "      <td>0.0</td>\n",
              "      <td>0.0</td>\n",
              "      <td>基隆市</td>\n",
              "      <td>信義區</td>\n",
              "    </tr>\n",
              "    <tr>\n",
              "      <th>2459</th>\n",
              "      <td>107年第一季</td>\n",
              "      <td>131020016</td>\n",
              "      <td>新北市立聯合醫院</td>\n",
              "      <td>區域醫院</td>\n",
              "      <td>5</td>\n",
              "      <td>6.0</td>\n",
              "      <td>0.8333</td>\n",
              "      <td>0.0</td>\n",
              "      <td>0.0</td>\n",
              "      <td>新北市</td>\n",
              "      <td>三重區</td>\n",
              "    </tr>\n",
              "    <tr>\n",
              "      <th>2460</th>\n",
              "      <td>107年第一季</td>\n",
              "      <td>143010011</td>\n",
              "      <td>衛生福利部屏東醫院</td>\n",
              "      <td>區域醫院</td>\n",
              "      <td>4</td>\n",
              "      <td>5.0</td>\n",
              "      <td>0.8000</td>\n",
              "      <td>0.0</td>\n",
              "      <td>0.0</td>\n",
              "      <td>屏東縣</td>\n",
              "      <td>屏東市</td>\n",
              "    </tr>\n",
              "    <tr>\n",
              "      <th>2461</th>\n",
              "      <td>107年第一季</td>\n",
              "      <td>412040012</td>\n",
              "      <td>國立臺灣大學醫學院附設醫院新竹分院</td>\n",
              "      <td>區域醫院</td>\n",
              "      <td>8</td>\n",
              "      <td>11.0</td>\n",
              "      <td>0.7273</td>\n",
              "      <td>0.0</td>\n",
              "      <td>0.0</td>\n",
              "      <td>新竹市</td>\n",
              "      <td>北區</td>\n",
              "    </tr>\n",
              "  </tbody>\n",
              "</table>\n",
              "</div>"
            ],
            "text/plain": [
              "         year  hosp_code          hosp_name hosp_type  case  surgery  \\\n",
              "2457  107年第一季  101090517           臺北市立聯合醫院      區域醫院    43     44.0   \n",
              "2458  107年第一季  111070010          衛生福利部基隆醫院      區域醫院     6      6.0   \n",
              "2459  107年第一季  131020016           新北市立聯合醫院      區域醫院     5      6.0   \n",
              "2460  107年第一季  143010011          衛生福利部屏東醫院      區域醫院     4      5.0   \n",
              "2461  107年第一季  412040012  國立臺灣大學醫學院附設醫院新竹分院      區域醫院     8     11.0   \n",
              "\n",
              "      be_in_hosp  區域指標值  全國指標值 city village  \n",
              "2457      0.9773    0.0    0.0  臺北市     大同區  \n",
              "2458      1.0000    0.0    0.0  基隆市     信義區  \n",
              "2459      0.8333    0.0    0.0  新北市     三重區  \n",
              "2460      0.8000    0.0    0.0  屏東縣     屏東市  \n",
              "2461      0.7273    0.0    0.0  新竹市      北區  "
            ]
          },
          "metadata": {
            "tags": []
          },
          "execution_count": 12
        }
      ]
    },
    {
      "metadata": {
        "id": "AWzEF7pB0uAN",
        "colab_type": "code",
        "colab": {
          "base_uri": "https://localhost:8080/",
          "height": 67
        },
        "outputId": "3ae2d5fd-2533-42ab-c0fa-b1b3e1ba0d0d"
      },
      "cell_type": "code",
      "source": [
        "groupbe2 = year107_s1.groupby(\"city\")\n",
        "case_sum_city = groupbe2[\"case\"].sum().sort_values(ascending=False)\n",
        "case_sum_city.index"
      ],
      "execution_count": 13,
      "outputs": [
        {
          "output_type": "execute_result",
          "data": {
            "text/plain": [
              "Index(['臺北市', '臺中市', '新北市', '高雄市', '臺南市', '桃園市', '彰化縣', '宜蘭縣', '新竹市', '南投縣',\n",
              "       '基隆市', '臺東縣', '花蓮縣', '嘉義市', '雲林縣', '屏東縣', '嘉義縣', '苗栗縣', '澎湖縣', '新竹縣'],\n",
              "      dtype='object', name='city')"
            ]
          },
          "metadata": {
            "tags": []
          },
          "execution_count": 13
        }
      ]
    },
    {
      "metadata": {
        "id": "X5B31kkQ3bWQ",
        "colab_type": "code",
        "colab": {
          "base_uri": "https://localhost:8080/",
          "height": 50
        },
        "outputId": "9a173373-849d-4a01-ee7c-e9a1c3b8d928"
      },
      "cell_type": "code",
      "source": [
        "case_sum_city.values"
      ],
      "execution_count": 14,
      "outputs": [
        {
          "output_type": "execute_result",
          "data": {
            "text/plain": [
              "array([370, 354, 255, 237, 146, 130, 120,  62,  49,  37,  29,  22,  21,\n",
              "        19,  15,  15,  15,  10,   1,   0])"
            ]
          },
          "metadata": {
            "tags": []
          },
          "execution_count": 14
        }
      ]
    },
    {
      "metadata": {
        "id": "c2ah-8muQXdY",
        "colab_type": "text"
      },
      "cell_type": "markdown",
      "source": [
        "##107年各縣市腦中風案例"
      ]
    },
    {
      "metadata": {
        "id": "MSd6Y5941VEo",
        "colab_type": "code",
        "colab": {
          "base_uri": "https://localhost:8080/",
          "height": 430
        },
        "outputId": "0ab405b2-7d6d-4fc0-d174-d3b77cdd293b"
      },
      "cell_type": "code",
      "source": [
        "import matplotlib.pyplot as plt\n",
        "amount = len(case_sum_city.values)\n",
        "plt.bar(range(amount), case_sum_city.values, color=\"#ffa500\")\n",
        "plt.xticks(range(amount), case_sum_city.index)\n",
        "plt.title(\"How many cases are there in every city 107season?\")\n",
        "plt.xlabel(\"city\")\n",
        "plt.ylabel(\"case counts\")\n",
        "plt.show()\n",
        "#matplotlib中文無法顯示"
      ],
      "execution_count": 15,
      "outputs": [
        {
          "output_type": "stream",
          "text": [
            "/usr/local/lib/python3.6/dist-packages/matplotlib/font_manager.py:1320: UserWarning: findfont: Font family ['sans-serif'] not found. Falling back to DejaVu Sans\n",
            "  (prop.get_family(), self.defaultFamily[fontext]))\n"
          ],
          "name": "stderr"
        },
        {
          "output_type": "display_data",
          "data": {
            "image/png": "[encoded data removed]",
            "text/plain": [
              "<matplotlib.figure.Figure at 0x7f8f1397e9b0>"
            ]
          },
          "metadata": {
            "tags": []
          }
        }
      ]
    },
    {
      "metadata": {
        "id": "jIyaqWZI_BrP",
        "colab_type": "code",
        "colab": {}
      },
      "cell_type": "code",
      "source": [
        "hex_colors = [\"#0084ff\", \"#44bec7\", \"#ffc300\", \"#fa3c4c\", \"#d696bb\"]\n",
        "city = brain_stroke[\"city\"].unique()\n"
      ],
      "execution_count": 0,
      "outputs": []
    },
    {
      "metadata": {
        "id": "wTFm24T2QgfE",
        "colab_type": "text"
      },
      "cell_type": "markdown",
      "source": [
        "##各縣市住院數與手術數關係"
      ]
    },
    {
      "metadata": {
        "id": "CH50Pi822Via",
        "colab_type": "code",
        "colab": {
          "base_uri": "https://localhost:8080/",
          "height": 401
        },
        "outputId": "3673f351-972e-4f11-c645-9d0f77631ea4"
      },
      "cell_type": "code",
      "source": [
        "#各縣市住院數與手術數關係\n",
        "for col, place in zip(hex_colors, city):\n",
        "  subset_df = brain_stroke[brain_stroke[\"city\"] == place]\n",
        "  plt.scatter(subset_df[\"be_in_hosp\"], subset_df[\"surgery\"], color=col, alpha=0.4, label=city)\n",
        "plt.show()\n",
        "#中文無法呈現"
      ],
      "execution_count": 48,
      "outputs": [
        {
          "output_type": "stream",
          "text": [
            "/usr/local/lib/python3.6/dist-packages/matplotlib/font_manager.py:1320: UserWarning: findfont: Font family ['sans-serif'] not found. Falling back to DejaVu Sans\n",
            "  (prop.get_family(), self.defaultFamily[fontext]))\n"
          ],
          "name": "stderr"
        },
        {
          "output_type": "display_data",
          "data": {
            "image/png": "[encoded data removed]",
            "text/plain": [
              "<matplotlib.figure.Figure at 0x7f8f13a36208>"
            ]
          },
          "metadata": {
            "tags": []
          }
        }
      ]
    },
    {
      "metadata": {
        "id": "yBbePj80F3_M",
        "colab_type": "text"
      },
      "cell_type": "markdown",
      "source": [
        "#lung cancer"
      ]
    },
    {
      "metadata": {
        "id": "PsVsUtt3Adtc",
        "colab_type": "code",
        "colab": {
          "base_uri": "https://localhost:8080/",
          "height": 400
        },
        "outputId": "ff773328-73ba-4b1f-ccab-cdbac04be070"
      },
      "cell_type": "code",
      "source": [
        "import pandas as pd\n",
        "lung_cancer = pd.read_excel(\"lung cancer new.xlsx\")\n",
        "lung_cancer.head()"
      ],
      "execution_count": 18,
      "outputs": [
        {
          "output_type": "execute_result",
          "data": {
            "text/html": [
              "<div>\n",
              "<style scoped>\n",
              "    .dataframe tbody tr th:only-of-type {\n",
              "        vertical-align: middle;\n",
              "    }\n",
              "\n",
              "    .dataframe tbody tr th {\n",
              "        vertical-align: top;\n",
              "    }\n",
              "\n",
              "    .dataframe thead th {\n",
              "        text-align: right;\n",
              "    }\n",
              "</style>\n",
              "<table border=\"1\" class=\"dataframe\">\n",
              "  <thead>\n",
              "    <tr style=\"text-align: right;\">\n",
              "      <th></th>\n",
              "      <th>year</th>\n",
              "      <th>city code</th>\n",
              "      <th>city</th>\n",
              "      <th>average life</th>\n",
              "      <th>age65</th>\n",
              "      <th>plantAmount</th>\n",
              "      <th>plant</th>\n",
              "      <th>Sex ratio</th>\n",
              "      <th>Unemployment</th>\n",
              "      <th>Tax</th>\n",
              "      <th>bed</th>\n",
              "      <th>PM10 (μg/m3)</th>\n",
              "      <th>SO2 (ppb)</th>\n",
              "      <th>NO2 (ppb)</th>\n",
              "      <th>pop</th>\n",
              "      <th>smoking rate</th>\n",
              "      <th>cancer</th>\n",
              "      <th>cars</th>\n",
              "    </tr>\n",
              "  </thead>\n",
              "  <tbody>\n",
              "    <tr>\n",
              "      <th>0</th>\n",
              "      <td>2011</td>\n",
              "      <td>1</td>\n",
              "      <td>New Taipei City</td>\n",
              "      <td>80.46</td>\n",
              "      <td>334479</td>\n",
              "      <td>1</td>\n",
              "      <td>1</td>\n",
              "      <td>98.14</td>\n",
              "      <td>4.4</td>\n",
              "      <td>168759548</td>\n",
              "      <td>42.00</td>\n",
              "      <td>42.0</td>\n",
              "      <td>3.5</td>\n",
              "      <td>17.20</td>\n",
              "      <td>3916451</td>\n",
              "      <td>21.9</td>\n",
              "      <td>1803</td>\n",
              "      <td>3284713</td>\n",
              "    </tr>\n",
              "    <tr>\n",
              "      <th>1</th>\n",
              "      <td>2012</td>\n",
              "      <td>1</td>\n",
              "      <td>New Taipei City</td>\n",
              "      <td>80.50</td>\n",
              "      <td>353396</td>\n",
              "      <td>1</td>\n",
              "      <td>1</td>\n",
              "      <td>97.69</td>\n",
              "      <td>4.2</td>\n",
              "      <td>186386348</td>\n",
              "      <td>42.21</td>\n",
              "      <td>38.0</td>\n",
              "      <td>3.1</td>\n",
              "      <td>16.00</td>\n",
              "      <td>3939305</td>\n",
              "      <td>19.5</td>\n",
              "      <td>2003</td>\n",
              "      <td>3309078</td>\n",
              "    </tr>\n",
              "    <tr>\n",
              "      <th>2</th>\n",
              "      <td>2013</td>\n",
              "      <td>1</td>\n",
              "      <td>New Taipei City</td>\n",
              "      <td>80.59</td>\n",
              "      <td>374883</td>\n",
              "      <td>1</td>\n",
              "      <td>1</td>\n",
              "      <td>97.27</td>\n",
              "      <td>4.2</td>\n",
              "      <td>204029784</td>\n",
              "      <td>41.13</td>\n",
              "      <td>41.8</td>\n",
              "      <td>3.4</td>\n",
              "      <td>16.10</td>\n",
              "      <td>3954929</td>\n",
              "      <td>20.8</td>\n",
              "      <td>1998</td>\n",
              "      <td>3233275</td>\n",
              "    </tr>\n",
              "    <tr>\n",
              "      <th>3</th>\n",
              "      <td>2014</td>\n",
              "      <td>1</td>\n",
              "      <td>New Taipei City</td>\n",
              "      <td>80.75</td>\n",
              "      <td>400545</td>\n",
              "      <td>1</td>\n",
              "      <td>1</td>\n",
              "      <td>96.86</td>\n",
              "      <td>3.9</td>\n",
              "      <td>221096918</td>\n",
              "      <td>42.85</td>\n",
              "      <td>43.1</td>\n",
              "      <td>3.4</td>\n",
              "      <td>16.60</td>\n",
              "      <td>3966818</td>\n",
              "      <td>18.4</td>\n",
              "      <td>2160</td>\n",
              "      <td>3178499</td>\n",
              "    </tr>\n",
              "    <tr>\n",
              "      <th>4</th>\n",
              "      <td>2015</td>\n",
              "      <td>1</td>\n",
              "      <td>New Taipei City</td>\n",
              "      <td>80.96</td>\n",
              "      <td>429175</td>\n",
              "      <td>0</td>\n",
              "      <td>1</td>\n",
              "      <td>96.64</td>\n",
              "      <td>3.7</td>\n",
              "      <td>246632933</td>\n",
              "      <td>43.29</td>\n",
              "      <td>40.1</td>\n",
              "      <td>3.2</td>\n",
              "      <td>15.85</td>\n",
              "      <td>3970644</td>\n",
              "      <td>17.7</td>\n",
              "      <td>2175</td>\n",
              "      <td>3183551</td>\n",
              "    </tr>\n",
              "  </tbody>\n",
              "</table>\n",
              "</div>"
            ],
            "text/plain": [
              "   year  city code             city  average life   age65  plantAmount  plant  \\\n",
              "0  2011          1  New Taipei City         80.46  334479            1      1   \n",
              "1  2012          1  New Taipei City         80.50  353396            1      1   \n",
              "2  2013          1  New Taipei City         80.59  374883            1      1   \n",
              "3  2014          1  New Taipei City         80.75  400545            1      1   \n",
              "4  2015          1  New Taipei City         80.96  429175            0      1   \n",
              "\n",
              "   Sex ratio  Unemployment        Tax    bed  PM10 (μg/m3)   SO2 (ppb)   \\\n",
              "0      98.14           4.4  168759548  42.00           42.0         3.5   \n",
              "1      97.69           4.2  186386348  42.21           38.0         3.1   \n",
              "2      97.27           4.2  204029784  41.13           41.8         3.4   \n",
              "3      96.86           3.9  221096918  42.85           43.1         3.4   \n",
              "4      96.64           3.7  246632933  43.29           40.1         3.2   \n",
              "\n",
              "   NO2 (ppb)       pop  smoking rate  cancer     cars  \n",
              "0       17.20  3916451          21.9    1803  3284713  \n",
              "1       16.00  3939305          19.5    2003  3309078  \n",
              "2       16.10  3954929          20.8    1998  3233275  \n",
              "3       16.60  3966818          18.4    2160  3178499  \n",
              "4       15.85  3970644          17.7    2175  3183551  "
            ]
          },
          "metadata": {
            "tags": []
          },
          "execution_count": 18
        }
      ]
    },
    {
      "metadata": {
        "id": "5CpD8kNYGblB",
        "colab_type": "code",
        "colab": {
          "base_uri": "https://localhost:8080/",
          "height": 118
        },
        "outputId": "93d3e76b-e698-42e6-fabb-20f2038b533c"
      },
      "cell_type": "code",
      "source": [
        "lung_cancer[\"city\"].unique()"
      ],
      "execution_count": 19,
      "outputs": [
        {
          "output_type": "execute_result",
          "data": {
            "text/plain": [
              "array(['New Taipei City', 'Taipei City', 'Taoyuan City', 'Taichung City',\n",
              "       'Tainan City', 'Kaohsiung City', 'Yilan County', 'Hsinchu County',\n",
              "       'Miaoli County', 'Changhua County', 'Nantou County',\n",
              "       'Yunlin County', 'Chiayi County', 'Pingtung County',\n",
              "       'Taitung County', 'Hualien County', 'Keelung City', 'Hsinchu City',\n",
              "       'Chiayi City'], dtype=object)"
            ]
          },
          "metadata": {
            "tags": []
          },
          "execution_count": 19
        }
      ]
    },
    {
      "metadata": {
        "id": "MGhIF_82IJUc",
        "colab_type": "code",
        "colab": {
          "base_uri": "https://localhost:8080/",
          "height": 34
        },
        "outputId": "d64cd7b3-fc6a-4ce0-879b-89476c837281"
      },
      "cell_type": "code",
      "source": [
        "lung_cancer[\"year\"].unique()"
      ],
      "execution_count": 20,
      "outputs": [
        {
          "output_type": "execute_result",
          "data": {
            "text/plain": [
              "array([2011, 2012, 2013, 2014, 2015])"
            ]
          },
          "metadata": {
            "tags": []
          },
          "execution_count": 20
        }
      ]
    },
    {
      "metadata": {
        "id": "ftrYr4MRKEiK",
        "colab_type": "code",
        "colab": {
          "base_uri": "https://localhost:8080/",
          "height": 34
        },
        "outputId": "cc72d733-c630-4b49-f240-603e3e87ea8f"
      },
      "cell_type": "code",
      "source": [
        "groupbeYear = lung_cancer.groupby(\"year\")\n",
        "cancer_year_ser = groupbeYear[\"cancer\"].sum().sort_values(ascending=False)\n",
        "cancer_year_ser.index"
      ],
      "execution_count": 21,
      "outputs": [
        {
          "output_type": "execute_result",
          "data": {
            "text/plain": [
              "Int64Index([2015, 2014, 2013, 2012, 2011], dtype='int64', name='year')"
            ]
          },
          "metadata": {
            "tags": []
          },
          "execution_count": 21
        }
      ]
    },
    {
      "metadata": {
        "id": "fl9H217LKbmk",
        "colab_type": "code",
        "colab": {
          "base_uri": "https://localhost:8080/",
          "height": 34
        },
        "outputId": "cd9b64e5-5e86-4dfe-cbe1-6acf238cccd8"
      },
      "cell_type": "code",
      "source": [
        "cancer_year_ser.values"
      ],
      "execution_count": 22,
      "outputs": [
        {
          "output_type": "execute_result",
          "data": {
            "text/plain": [
              "array([13002, 12386, 11661, 11601, 10972])"
            ]
          },
          "metadata": {
            "tags": []
          },
          "execution_count": 22
        }
      ]
    },
    {
      "metadata": {
        "id": "QpiINxcJNzkg",
        "colab_type": "code",
        "colab": {
          "base_uri": "https://localhost:8080/",
          "height": 34
        },
        "outputId": "a6b0ec0a-03c3-445b-f2f7-50a9e7a4f1e8"
      },
      "cell_type": "code",
      "source": [
        "#每年平均吸菸率\n",
        "smoking_year_ser = groupbeYear[\"smoking rate\"].mean().sort_values(ascending=False)\n",
        "smoking_year_ser.index"
      ],
      "execution_count": 23,
      "outputs": [
        {
          "output_type": "execute_result",
          "data": {
            "text/plain": [
              "Int64Index([2011, 2012, 2013, 2015, 2014], dtype='int64', name='year')"
            ]
          },
          "metadata": {
            "tags": []
          },
          "execution_count": 23
        }
      ]
    },
    {
      "metadata": {
        "id": "AFJP55c1PjTw",
        "colab_type": "code",
        "colab": {
          "base_uri": "https://localhost:8080/",
          "height": 34
        },
        "outputId": "382b08ef-9069-4d2d-d906-1e870a5dbda8"
      },
      "cell_type": "code",
      "source": [
        "smoking_year_ser.values"
      ],
      "execution_count": 24,
      "outputs": [
        {
          "output_type": "execute_result",
          "data": {
            "text/plain": [
              "array([19.12105263, 18.76315789, 17.50526316, 17.20526316, 17.16842105])"
            ]
          },
          "metadata": {
            "tags": []
          },
          "execution_count": 24
        }
      ]
    },
    {
      "metadata": {
        "id": "pJTov1s7QktE",
        "colab_type": "text"
      },
      "cell_type": "markdown",
      "source": [
        "##歷年肺癌人數"
      ]
    },
    {
      "metadata": {
        "id": "47207M9KLvYu",
        "colab_type": "code",
        "colab": {
          "base_uri": "https://localhost:8080/",
          "height": 401
        },
        "outputId": "94abfc32-70cd-4f31-8f55-8421f32327a6"
      },
      "cell_type": "code",
      "source": [
        "#歷年肺癌人數\n",
        "plt.plot(cancer_year_ser.index,cancer_year_ser.values, label = \"lung cancer amount\")\n",
        "plt.legend()\n",
        "plt.show()"
      ],
      "execution_count": 25,
      "outputs": [
        {
          "output_type": "stream",
          "text": [
            "/usr/local/lib/python3.6/dist-packages/matplotlib/font_manager.py:1320: UserWarning: findfont: Font family ['sans-serif'] not found. Falling back to DejaVu Sans\n",
            "  (prop.get_family(), self.defaultFamily[fontext]))\n"
          ],
          "name": "stderr"
        },
        {
          "output_type": "display_data",
          "data": {
            "image/png": "[encoded data removed]",
            "text/plain": [
              "<matplotlib.figure.Figure at 0x7f8f10fb3828>"
            ]
          },
          "metadata": {
            "tags": []
          }
        }
      ]
    },
    {
      "metadata": {
        "id": "GE_W4Fr8RUO0",
        "colab_type": "code",
        "colab": {
          "base_uri": "https://localhost:8080/",
          "height": 118
        },
        "outputId": "a93f8b35-a969-40aa-f6a6-edb8a7df6c39"
      },
      "cell_type": "code",
      "source": [
        "groupbe_city = lung_cancer.groupby(\"city\")\n",
        "city_ser = groupbe_city[\"cancer\"].sum().sort_values(ascending=False)\n",
        "city_ser.index"
      ],
      "execution_count": 26,
      "outputs": [
        {
          "output_type": "execute_result",
          "data": {
            "text/plain": [
              "Index(['New Taipei City', 'Taipei City', 'Kaohsiung City', 'Taichung City',\n",
              "       'Tainan City', 'Taoyuan City', 'Changhua County', 'Yunlin County',\n",
              "       'Pingtung County', 'Chiayi County', 'Yilan County', 'Miaoli County',\n",
              "       'Nantou County', 'Hsinchu County', 'Keelung City', 'Hsinchu City',\n",
              "       'Hualien County', 'Chiayi City', 'Taitung County'],\n",
              "      dtype='object', name='city')"
            ]
          },
          "metadata": {
            "tags": []
          },
          "execution_count": 26
        }
      ]
    },
    {
      "metadata": {
        "id": "m6ZkrzWpR9k5",
        "colab_type": "code",
        "colab": {
          "base_uri": "https://localhost:8080/",
          "height": 67
        },
        "outputId": "49344a3b-7635-4467-affe-d875b72a7f42"
      },
      "cell_type": "code",
      "source": [
        "city_ser.values"
      ],
      "execution_count": 27,
      "outputs": [
        {
          "output_type": "execute_result",
          "data": {
            "text/plain": [
              "array([10139,  7479,  7091,  6067,  5149,  4441,  3795,  2240,  2162,\n",
              "        1794,  1437,  1301,  1289,  1042,  1014,   906,   881,   731,\n",
              "         664])"
            ]
          },
          "metadata": {
            "tags": []
          },
          "execution_count": 27
        }
      ]
    },
    {
      "metadata": {
        "id": "XbCRLLYyS_lm",
        "colab_type": "text"
      },
      "cell_type": "markdown",
      "source": [
        "##各縣市肺癌總數"
      ]
    },
    {
      "metadata": {
        "id": "-vnEORgUMBSe",
        "colab_type": "code",
        "colab": {
          "base_uri": "https://localhost:8080/",
          "height": 403
        },
        "outputId": "a6c5512e-d1c2-45bb-d2a5-3adcf996418a"
      },
      "cell_type": "code",
      "source": [
        "figure, axis = plt.subplots(figsize=(29, 5))\n",
        "amount_each_city = len(city_ser.values)\n",
        "plt.bar(range(amount_each_city), city_ser.values, color=\"#40e0d0\")\n",
        "plt.xticks(range(amount_each_city), city_ser.index)\n",
        "plt.title(\"How many lung cancer are there in each city?\")\n",
        "plt.xlabel(\"city\")\n",
        "plt.ylabel(\"lung cancer amount\")\n",
        "plt.show()"
      ],
      "execution_count": 67,
      "outputs": [
        {
          "output_type": "stream",
          "text": [
            "/usr/local/lib/python3.6/dist-packages/matplotlib/font_manager.py:1320: UserWarning: findfont: Font family ['sans-serif'] not found. Falling back to DejaVu Sans\n",
            "  (prop.get_family(), self.defaultFamily[fontext]))\n"
          ],
          "name": "stderr"
        },
        {
          "output_type": "display_data",
          "data": {
            "image/png": "[encoded data removed]",
            "text/plain": [
              "<matplotlib.figure.Figure at 0x7f8f10d26048>"
            ]
          },
          "metadata": {
            "tags": []
          }
        }
      ]
    },
    {
      "metadata": {
        "id": "VkadzEMIOt1b",
        "colab_type": "code",
        "colab": {}
      },
      "cell_type": "code",
      "source": [
        ""
      ],
      "execution_count": 0,
      "outputs": []
    }
  ]
}